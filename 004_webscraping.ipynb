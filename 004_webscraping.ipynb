{
 "cells": [
  {
   "cell_type": "code",
   "execution_count": 11,
   "id": "a6955a7e-e6d7-4b44-8a42-4edf75e22d7a",
   "metadata": {},
   "outputs": [
    {
     "name": "stdout",
     "output_type": "stream",
     "text": [
      "\n",
      "2 1 Ano de ba tala yông jey na lagwi mwa na bwâng pyɛ́ e ji mo. 2 E tuk hê taama, Dagwi a ga kana tala fwom de a ra, a tumal fwom mwa de a ga ra. 3 A tɛ̀ nerat e ra tuk hê taama, ko a tik hɛ jaram, na he sè mɛ, yaga e tuk a hane de a tumal mwa fwôm yông jey. 4 Gwong a gwomo de ba yong jey na lagwi.\n"
     ]
    }
   ],
   "source": [
    "from bs4 import BeautifulSoup\n",
    "import urllib.request\n",
    "\n",
    "link = (\"https://scriptureearth.org/data/bom/sab/bom/bom-01-GEN-002.html\")\n",
    "req = urllib.request.Request(link, headers= {'User-Agent': 'Mozilla/5.0'})\n",
    "url = urllib.request.urlopen(req)#.read()\n",
    "soup = BeautifulSoup(url, \"html.parser\")\n",
    "body = soup.find('div', class_='m')\n",
    "print(body.text)"
   ]
  },
  {
   "cell_type": "code",
   "execution_count": 12,
   "id": "3c5c20d4-e0b8-4371-b08c-84c8f91a7d26",
   "metadata": {},
   "outputs": [
    {
     "name": "stdout",
     "output_type": "stream",
     "text": [
      "Jeng de Dagwi Darweya a yong jey na lagwi, 5 vit à baburuk kɛ sɔng e hey de gwa ga tulu e ngyen, yaga Dagwi Darwey a ga kana tɛ̀ rwak wo rop e ra vwel wɛt, ko vit à mwasi de e how hɛ. 6 Ko lwel gwa nunus na nshi yi e vwel, nà sing vwel o. 7 Dagwi Darwey a vɛ nefongol,b ko a yong mɛ̀ mwasi,c a pɛl a yɛ nesong neken e ji wol mɛ, ko mwasi mo a tɛ́ ɛ wo neken.\n"
     ]
    }
   ],
   "source": [
    "body = soup.find('div', class_='p')\n",
    "print(body.text)"
   ]
  },
  {
   "cell_type": "code",
   "execution_count": null,
   "id": "43c2fd05-d858-498c-b8e7-d35d5292ab9e",
   "metadata": {},
   "outputs": [],
   "source": []
  }
 ],
 "metadata": {
  "kernelspec": {
   "display_name": "Python 3 (ipykernel)",
   "language": "python",
   "name": "python3"
  },
  "language_info": {
   "codemirror_mode": {
    "name": "ipython",
    "version": 3
   },
   "file_extension": ".py",
   "mimetype": "text/x-python",
   "name": "python",
   "nbconvert_exporter": "python",
   "pygments_lexer": "ipython3",
   "version": "3.9.15"
  }
 },
 "nbformat": 4,
 "nbformat_minor": 5
}
