{
 "cells": [
  {
   "cell_type": "code",
   "execution_count": 9,
   "id": "9f397024-a289-44eb-bb46-32de5f6b30f1",
   "metadata": {},
   "outputs": [
    {
     "name": "stdout",
     "output_type": "stream",
     "text": [
      "\n",
      "1 1 Jeng de Dagwi à kana susu yông jey na lagwi,a 2 jey o yà sè wiin zɔng, vit a pyɛ e ji yɛ. Lwīl gwà kyiri gwogbɔng gworep gwociwil, ko gabik Dagwi ha rini e ra nshi.\n"
     ]
    }
   ],
   "source": [
    "from bs4 import BeautifulSoup\n",
    "import urllib.request\n",
    "\n",
    "link = (\"https://scriptureearth.org/data/bom/sab/bom/bom-01-GEN-001.html\")\n",
    "req = urllib.request.Request(link, headers= {'User-Agent': 'Mozilla/5.0'})\n",
    "url = urllib.request.urlopen(req)#.read()\n",
    "soup = BeautifulSoup(url, \"html.parser\")\n",
    "body = soup.find('div', class_='m').text\n",
    "print(body)\n"
   ]
  },
  {
   "cell_type": "markdown",
   "id": "794185f1-9ab2-4086-82e5-f24f4af7e671",
   "metadata": {},
   "source": [
    "This code block does the following:\n",
    "\n",
    "```python\n",
    "from bs4 import BeautifulSoup\n",
    "import urllib.request\n",
    "\n",
    "link = (\"https://scriptureearth.org/data/bom/sab/bom/bom-01-GEN-001.html\")\n",
    "req = urllib.request.Request(link, headers= {'User-Agent': 'Mozilla/5.0'})\n",
    "url = urllib.request.urlopen(req).read()\n",
    "soup = BeautifulSoup(url, \"html.parser\")\n",
    "body = soup.find_all('div', class_='m')\n",
    "print(body)\n",
    "```\n",
    "\n",
    "1. Import the BeautifulSoup module.\n",
    "2. Import the urllib.request module.\n",
    "3. Assign the URL to a variable named `link`.\n",
    "4. Create a request object with the URL and headers.\n",
    "5. Open the URL and read its contents.\n",
    "6. Parse the HTML content using BeautifulSoup with 'html.parser' as the parser.\n",
    "7. Find all div elements with class name 'm'.\n",
    "8. Print the contents of all div elements with class name 'm'.\n",
    "\n",
    "This code block reads an HTML page from a URL and extracts all div elements with class name 'm'.\n",
    "\n",
    "The main difference between requests and urllib.request is that requests is a third-party library for making HTTP requests in Python while urllib.request is a built-in Python library for making HTTP requests. ¹² \n",
    "\n",
    "Requests is a more user-friendly library than urllib.request and provides more functionality. It can be used to send HTTP/1.1 requests extremely easily. There’s no need to manually add query strings to your URLs or to form-encode your POST data. You can also add headers, form data, multipart files, and parameters via simple Python libraries. ¹\n",
    "\n",
    "Urllib.request is a built-in Python library that provides the ability to make HTTP requests. It is less user-friendly than requests but provides similar functionality. It can be used to send HTTP/1.1 requests extremely easily. There’s no need to manually add query strings to your URLs or to form-encode your POST data. You can also add headers, form data, multipart files, and parameters via simple Python libraries. ⁴\n",
    "\n",
    "Source: Conversation with Bing, 28/05/2023(1) What are the differences between the urllib, urllib2, urllib3 and .... https://stackoverflow.com/questions/2018026/what-are-the-differences-between-the-urllib-urllib2-urllib3-and-requests-modul Accessed 28/05/2023.\n",
    "(2) The difference between requests and urllib library - Code World. https://www.codetd.com/en/article/12816024 Accessed 28/05/2023.\n",
    "(3) Python's urllib.request for HTTP Requests – Real Python. https://realpython.com/urllib-request/ Accessed 28/05/2023.\n",
    "(4) Difference between requests.get() and urrlib.request.urlopen() python .... https://stackoverflow.com/questions/38114499/difference-between-requests-get-and-urrlib-request-urlopen-python Accessed 28/05/2023."
   ]
  },
  {
   "cell_type": "code",
   "execution_count": null,
   "id": "041061d2-49a7-4eb7-a588-f3ff61c68813",
   "metadata": {},
   "outputs": [],
   "source": []
  }
 ],
 "metadata": {
  "kernelspec": {
   "display_name": "Python 3 (ipykernel)",
   "language": "python",
   "name": "python3"
  },
  "language_info": {
   "codemirror_mode": {
    "name": "ipython",
    "version": 3
   },
   "file_extension": ".py",
   "mimetype": "text/x-python",
   "name": "python",
   "nbconvert_exporter": "python",
   "pygments_lexer": "ipython3",
   "version": "3.9.15"
  }
 },
 "nbformat": 4,
 "nbformat_minor": 5
}
