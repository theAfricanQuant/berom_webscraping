{
 "cells": [
  {
   "cell_type": "code",
   "execution_count": 1,
   "id": "449ac864-a915-45e1-b934-03bf632cbbdf",
   "metadata": {},
   "outputs": [
    {
     "name": "stdout",
     "output_type": "stream",
     "text": [
      "JSON data saved to: berom/Susumo_1.json\n",
      "JSON data saved to: berom/Susumo_2.json\n",
      "JSON data saved to: berom/Susumo_3.json\n",
      "JSON data saved to: berom/Susumo_4.json\n",
      "JSON data saved to: berom/Susumo_5.json\n",
      "JSON data saved to: berom/Susumo_6.json\n",
      "JSON data saved to: berom/Susumo_7.json\n",
      "JSON data saved to: berom/Susumo_8.json\n",
      "JSON data saved to: berom/Susumo_9.json\n",
      "JSON data saved to: berom/Susumo_10.json\n",
      "JSON data saved to: berom/Susumo_11.json\n",
      "JSON data saved to: berom/Susumo_12.json\n",
      "JSON data saved to: berom/Susumo_13.json\n",
      "JSON data saved to: berom/Susumo_14.json\n",
      "JSON data saved to: berom/Susumo_15.json\n",
      "JSON data saved to: berom/Susumo_16.json\n",
      "JSON data saved to: berom/Susumo_17.json\n",
      "JSON data saved to: berom/Susumo_18.json\n",
      "JSON data saved to: berom/Susumo_19.json\n",
      "JSON data saved to: berom/Susumo_20.json\n",
      "JSON data saved to: berom/Susumo_21.json\n",
      "JSON data saved to: berom/Susumo_22.json\n",
      "JSON data saved to: berom/Susumo_23.json\n",
      "JSON data saved to: berom/Susumo_24.json\n",
      "JSON data saved to: berom/Susumo_25.json\n",
      "JSON data saved to: berom/Susumo_26.json\n",
      "JSON data saved to: berom/Susumo_27.json\n",
      "JSON data saved to: berom/Susumo_28.json\n",
      "JSON data saved to: berom/Susumo_29.json\n",
      "JSON data saved to: berom/Susumo_30.json\n",
      "JSON data saved to: berom/Susumo_31.json\n",
      "JSON data saved to: berom/Susumo_32.json\n",
      "JSON data saved to: berom/Susumo_33.json\n",
      "JSON data saved to: berom/Susumo_34.json\n",
      "JSON data saved to: berom/Susumo_35.json\n",
      "JSON data saved to: berom/Susumo_36.json\n",
      "JSON data saved to: berom/Susumo_37.json\n",
      "JSON data saved to: berom/Susumo_38.json\n",
      "JSON data saved to: berom/Susumo_39.json\n",
      "JSON data saved to: berom/Susumo_40.json\n",
      "JSON data saved to: berom/Susumo_41.json\n",
      "JSON data saved to: berom/Susumo_42.json\n",
      "JSON data saved to: berom/Susumo_43.json\n",
      "JSON data saved to: berom/Susumo_44.json\n",
      "JSON data saved to: berom/Susumo_45.json\n",
      "JSON data saved to: berom/Susumo_46.json\n",
      "JSON data saved to: berom/Susumo_47.json\n",
      "JSON data saved to: berom/Susumo_48.json\n",
      "JSON data saved to: berom/Susumo_49.json\n",
      "JSON data saved to: berom/Susumo_50.json\n"
     ]
    }
   ],
   "source": [
    "from berom_scraper import *\n",
    "\n",
    "base_url = \"https://scriptureearth.org/data/bom/sab/bom/bom-01-GEN-{}.html\"\n",
    "\n",
    "for i in range(1, 51):\n",
    "    url = base_url.format(str(i).zfill(3))\n",
    "    \n",
    "    \n",
    "    scraper = WebScraper(url, 'berom')\n",
    "    txt = scraper.soup\n",
    "    chpt_name = scraper.chapter\n",
    "    attribs = ('ms', 'mt', 'sp', 's')\n",
    "    scraper.clean_div(attribs)\n",
    "    scraper.clean_subdiv('div', 'm', 'c-drop')\n",
    "    scraper.clean_text()\n",
    "    scraper.save_json()\n"
   ]
  },
  {
   "cell_type": "code",
   "execution_count": null,
   "id": "7255e6ce-f5e3-4190-98ce-e876b88befd1",
   "metadata": {},
   "outputs": [],
   "source": []
  }
 ],
 "metadata": {
  "kernelspec": {
   "display_name": "Python 3 (ipykernel)",
   "language": "python",
   "name": "python3"
  },
  "language_info": {
   "codemirror_mode": {
    "name": "ipython",
    "version": 3
   },
   "file_extension": ".py",
   "mimetype": "text/x-python",
   "name": "python",
   "nbconvert_exporter": "python",
   "pygments_lexer": "ipython3",
   "version": "3.9.15"
  }
 },
 "nbformat": 4,
 "nbformat_minor": 5
}
