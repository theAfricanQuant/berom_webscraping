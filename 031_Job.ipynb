{
 "cells": [
  {
   "cell_type": "code",
   "execution_count": 1,
   "id": "449ac864-a915-45e1-b934-03bf632cbbdf",
   "metadata": {},
   "outputs": [
    {
     "name": "stdout",
     "output_type": "stream",
     "text": [
      "JSON data saved to: berom\\Iyɔp_1.json\n",
      "JSON data saved to: berom\\Iyɔp_2.json\n",
      "JSON data saved to: berom\\Iyɔp_3.json\n",
      "JSON data saved to: berom\\Iyɔp_4.json\n",
      "JSON data saved to: berom\\Iyɔp_5.json\n",
      "JSON data saved to: berom\\Iyɔp_6.json\n",
      "JSON data saved to: berom\\Iyɔp_7.json\n",
      "JSON data saved to: berom\\Iyɔp_8.json\n",
      "JSON data saved to: berom\\Iyɔp_9.json\n",
      "JSON data saved to: berom\\Iyɔp_10.json\n",
      "JSON data saved to: berom\\Iyɔp_11.json\n",
      "JSON data saved to: berom\\Iyɔp_12.json\n",
      "JSON data saved to: berom\\Iyɔp_13.json\n",
      "JSON data saved to: berom\\Iyɔp_14.json\n",
      "JSON data saved to: berom\\Iyɔp_15.json\n",
      "JSON data saved to: berom\\Iyɔp_16.json\n",
      "JSON data saved to: berom\\Iyɔp_17.json\n",
      "JSON data saved to: berom\\Iyɔp_18.json\n",
      "JSON data saved to: berom\\Iyɔp_19.json\n",
      "JSON data saved to: berom\\Iyɔp_20.json\n",
      "JSON data saved to: berom\\Iyɔp_21.json\n",
      "JSON data saved to: berom\\Iyɔp_22.json\n",
      "JSON data saved to: berom\\Iyɔp_23.json\n",
      "JSON data saved to: berom\\Iyɔp_24.json\n",
      "JSON data saved to: berom\\Iyɔp_25.json\n",
      "JSON data saved to: berom\\Iyɔp_26.json\n",
      "JSON data saved to: berom\\Iyɔp_27.json\n",
      "JSON data saved to: berom\\Iyɔp_28.json\n",
      "JSON data saved to: berom\\Iyɔp_29.json\n",
      "JSON data saved to: berom\\Iyɔp_30.json\n",
      "JSON data saved to: berom\\Iyɔp_31.json\n",
      "JSON data saved to: berom\\Iyɔp_32.json\n",
      "JSON data saved to: berom\\Iyɔp_33.json\n",
      "JSON data saved to: berom\\Iyɔp_34.json\n",
      "JSON data saved to: berom\\Iyɔp_35.json\n",
      "JSON data saved to: berom\\Iyɔp_36.json\n",
      "JSON data saved to: berom\\Iyɔp_37.json\n",
      "JSON data saved to: berom\\Iyɔp_38.json\n",
      "JSON data saved to: berom\\Iyɔp_39.json\n",
      "JSON data saved to: berom\\Iyɔp_40.json\n",
      "JSON data saved to: berom\\Iyɔp_41.json\n",
      "JSON data saved to: berom\\Iyɔp_42.json\n"
     ]
    }
   ],
   "source": [
    "from berom_scraper import *\n",
    "\n",
    "base_url = \"https://scriptureearth.org/data/bom/sab/bom/bom-18-JOB-{}.html\" \n",
    "\n",
    "for i in range(1, 43):\n",
    "    url = base_url.format(str(i).zfill(3))\n",
    "    \n",
    "    \n",
    "    scraper = WebScraper(url, 'berom')\n",
    "    txt = scraper.soup\n",
    "    chpt_name = scraper.chapter\n",
    "    attribs = ('ms', 'mt', 'sp', 's')\n",
    "    scraper.clean_div(attribs)\n",
    "    scraper.clean_subdiv('div', 'm', 'c-drop')\n",
    "    scraper.clean_text()\n",
    "    scraper.save_json()"
   ]
  },
  {
   "cell_type": "code",
   "execution_count": null,
   "id": "200a5bbd-68c4-4ff9-b77f-eb43e80c4b52",
   "metadata": {},
   "outputs": [],
   "source": []
  }
 ],
 "metadata": {
  "kernelspec": {
   "display_name": "Python 3 (ipykernel)",
   "language": "python",
   "name": "python3"
  },
  "language_info": {
   "codemirror_mode": {
    "name": "ipython",
    "version": 3
   },
   "file_extension": ".py",
   "mimetype": "text/x-python",
   "name": "python",
   "nbconvert_exporter": "python",
   "pygments_lexer": "ipython3",
   "version": "3.10.11"
  }
 },
 "nbformat": 4,
 "nbformat_minor": 5
}
