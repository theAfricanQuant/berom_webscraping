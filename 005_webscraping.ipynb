{
 "cells": [
  {
   "cell_type": "code",
   "execution_count": 1,
   "id": "8d2f6b04-39b6-4f12-878e-e8e25d8c45e5",
   "metadata": {},
   "outputs": [
    {
     "name": "stdout",
     "output_type": "stream",
     "text": [
      "\n",
      "1 1 Mɛsɛ̂ng Yɛgɛt Yât Yɛsu Kristi, Hwey Dagwi, à yemo. 2 Ya sé sede remo de Yɛshaya, zarap Dagwi, à kana jɛk e bwok-basa mɛ pyɛ de Dagwi à ha wɔgɔ,\n"
     ]
    }
   ],
   "source": [
    "from bs4 import BeautifulSoup\n",
    "import urllib.request\n",
    "\n",
    "link = (\"https://scriptureearth.org/data/bom/sab/bom/bom-42-MRK-001.html\")\n",
    "req = urllib.request.Request(link, headers= {'User-Agent': 'Mozilla/5.0'})\n",
    "url = urllib.request.urlopen(req)#.read()\n",
    "soup = BeautifulSoup(url, \"html.parser\")\n",
    "body = soup.find('div', class_='m')\n",
    "print(body.text)"
   ]
  },
  {
   "cell_type": "code",
   "execution_count": 14,
   "id": "3406f656-4ccf-499f-89bc-3d58618787b7",
   "metadata": {},
   "outputs": [
    {
     "name": "stdout",
     "output_type": "stream",
     "text": [
      "\n",
      "\n",
      "<<<Markus1>>>\n",
      "<<<Markus1>>>\n",
      "YƐGƐT YAT DEMARKUSA JƐKBasâ Yohana wo batisma(Mat 3:1-12;Luk 3:1-18;Yoh 1:19-28)11Mɛsɛ̂ng Yɛgɛt Yât Yɛsu Kristi, Hwey Dagwi, à yemo.2Ya sé sede remo de Yɛshaya, zarap Dagwi, à kana jɛk e bwok-basa mɛ pyɛ de Dagwi à ha wɔgɔ,“Di, tom hom à womo; ma sé tomo hɛ e nuyel mō,na a yong gwong yaga hwo.”3“Be wok fwɔ̂ mwat hwak gwo mok e hey, gwo tē,‘Yóng in a Darwey gwong;tɛ̀ in gwɛ tas, na a bin kwey ɛ̀!’ ”4Há hemo ha sila jeng de Yohana á sè e hey, ko a tɛ̀sɛ a bemat batisma. A shara a yɛn reha wɔgɔ, “Doyo hin yi e banɛn min, na be tɛ̀ a yin batisma, yaga na Dagwi a hàla a yin banɛn min.”5Bemât mwa yi e sevwêl Yudiya na bemât mwa yi e gbɔng repomô Yɛrusalɛm ba kyese na yɛ. Yɛn a kulsa banɛn mɛn, ko a tɛ̀sɛ a yɛn batisma e ji Rɔt Yɔrdan.6Yohana á tɛ̀sɛ gworugu de bá yong na setôt maryat, á rɔgɔs gyindî rehwo e rawit mɛ, ko a re yɔ́rɔ na shok.7A ha a bemat, a yang ɛn, “Mwat de e kyè vey e bama hom a dal me na reto. Ma ka vey na me ye kwot, na me viri batsɛ̂p bekpatak mɛ wɛt.8Me tɛ̀sɛ a yin batisma na nshi, ko yɛ de e kyè vey a rɔda tɛ̀sɛ a yin batisma na Gabik Jɛrɛ.”Batisma Yɛsu na setɔgɔs mɛ(Mat 3:13—4:11;Luk 3:21-22;4:1-13)9E ji nepɔlɔ nane, Yɛsu a vey yi e Nazarɛt wo Galili, ko Yohana a tɛ̀ a yɛ batisma e ji Rɔt Yɔrdan.10Jeng de Yɛsu a nusu yi e nshi, a di lagwi wa wunta hɛ, ko Gabik Jɛrɛ ha sé gyirik sede gwobɔp, ha hwo e ra yɛ.11Ko fwɔ gwa yi e lagwi, gwa ye, “Hwà sé Hwêy yey hom, yey hom ya pɛngɛ na hwo sizɔng.”12Ko remo-remo, Gabik Jɛrɛ ha gang ɛ vɔk e hey.13A sangal e hwomo nepɔlɔ kuru banaas (40), ko Shetan a tɔgɔs hɛ na a ra banɛn. Ngyāma ya sé e hwomo arɔng, ko betom-lagwi ba nɔng ɛ pyɛ de e simo.Yɛsu a yila bemât vôs betɔk benaas(Mat 4:12-22;Luk 4:14-15;5:1-11)14Bama de ba ga tɛ̀ Yohana e ngyang, Yɛsu a wɔ́ e sevwêl Galili, a shara a bemat Yɛgɛt Yat yi na Dagwi.15A yang ɛn, “Jeng ya ga vey de Dagwi ê kwɔk jut segwɔm e ra jey. Doyo hin yi e banɛn min, na yin a sey tsak o na Yɛgɛt Yat!”16Jeng de Yɛsu a sé kwey e vwarâ Gworep Galili, a di bemât vôs betɔk beba, yɛ Simɔn na gwa mɛ Andarawus; ba sé vos betɔk e ji gworep na segun.17Yɛsu a yang ɛn, “Raa me hin, ko ma rɔda masa a yin gwong de yin ê vɛ̀sɛ a me na bemat, tyɛng sede yin a sé vos betɔk a remo.”18E ji jeng o, yɛn a pe hàla bagun mɛn, ko ba raa hɛ.19Sede a gwɛ̌ kyè tyɔng vɔk e nuyel, a to di bemat beba, yɛ Yakɔp na gwa mɛ Yohana, nèy Zɛbɛdayus. Yɛn a sé e ji dwa-nshi, ba sé yong bagun mɛn.20Remo-remo, Yɛsu a yishi hɛn; ko yɛn a tik da mɛn Zɛbɛdayus na bemât fwom mɛ e ji dwa-nshi mo, ko yɛn a raa hɛ.Mwat de a vɔk ceng(Luk 4:31-37)21Yɛn a yel e ji repomo de be tâng rɛ, à Kafarnahum. Tuk Shábat, Yɛsu a yel e duk re fongol mɛn, ko a hwo basa a bemat rehâ Dagwi.22Bemat o ba langat hɛn e ra gwong de a basa, yaga gwa sé detu na gwomo de bemât basâ Badu ba ra. Yɛsu a basa a yɛn na reto.23E ji jeng o, mwat hwak de a vɔk ceng a yel e duk re fongol o, ko a hwo gbɔ, a ye,24“À Yɛsu wo Nazarɛt, e sɛ́ de hwó simo hwo ra na wot arɛt? Hwà vey na hwo ba wey na wot a? Ma tɔk yerê mwat de hwà sé: Hwà sé mwât Dagwi de yɛ a tomo hɛ!”25Ko Yɛsu a pat bayis e ra ceng o, a yâng yɛ, “Sǎ yuu! Nusu yi e ji mwat womo!”26Ceng o ya digta mwat o na gap, ya dak sekun, ko ya nusu.27A vɛ̌ yâng bemat o mwa kpɔrɔk, ko ba hwo tâng bemɛn, “Hàa! E sɛ́ a yemo ɛ? E yerê basa mo pas o hak a hemo a? Mwat womo e nɔngɔ̂s cēng nu yi na reto, ko ye wokos hɛ!”28Ko há de ba ha e ra Yɛsu ha shara hɛ ziri e kahɛ kwɔn e ji sevwêl Galili.Yɛsu a tɛ̀ gùna Bitrus na bemat behak tyang(Mat 8:14-17;Luk 4:38-41)29E bama mo, yɛn a nusu yi e duk re fongol, ko yɛn a bérem vɔk e lɔ Simɔn na Andarawus; Yakɔp na Yohana ba kyè tanga yɛn.30Gùna Simɔn o á sè e dyɛngɛ pep-pep na bêk fes. Ko jeng de Yɛsu a yel e hwomo, bemat ba ha a yɛ, e ro ɛ.31A wɔ́ na yɛ, a kaba vwɔ mɛ, ko a sogo hɛ. Bêk fes ha hàla hɛ, ko a yong a yɛn pyɛ́.32Nawiri jeng de gwi gwa gaba, bemat ba vɛ̀sɛ na mwa bemât serɔ na yɛ tanga vemo de ba vɔk cēng arɔng.33Mwa bemât repomo mo ba tula hɛn e nuyêl lɔ mo.34Ko Yɛsu a tɛ̀sɛ bemât serɔ pyak tyang, vemo de ba vɔk nezap nerɔ detidetu, ko a paa cēng pyak. A tik yɛ̄, na ye ha wɛt, yaga ya tɔk mwat de yɛ a sé.Yɛsu a basa e sevwêl Galili(Luk 4:42-44)35E rwa hwol rey, Yɛsu a sogo, ko a tik lɔ mo. A vɔk e dem de vit a mwat, ko e hwomo a ra won.36Ko Simɔn na vemo de ba sé tanga yɛ ba nusu, ba wɔ̀ jāma hɛ.37Jeng de yɛn a sɛ̀ ɛ, yɛn a yang ɛ, “Bemât mwa ba sé jāma hwo!”38Ko Yɛsu a yang ɛn, “Tik na wot a vɔk e bapomo de ba sé bagat e ngamo, na me kyě basa e ji vɛ arɔng, yaga pyɛ ma yane de ya tɛ̀, ma vey.”39A kyě kyè mwa e ji sevwêl Galili, a shara rehâ Dagwi e beduk re fongol, ko a paa cēng arɔng.Yɛsu a tɛ̀ kparong tyang(Mat 8:1-4;Luk 5:12-16)40Kparong hwak a vey na Yɛsu, a ye guduruk, ko a ra won na yɛ, a ye, “Ka sede hwà simo, ko hwà vɔk reto na hwo tɛ̀ me tyang.”41Yɛsu a wok nemwishish mɛ, a hanat, a yang ɛ, “Ey, me simo.” A nára vwɔ mɛ, ko a ra mɛ̀ mwat o, a ye, “Tɛ̀ tyang!”42Remo-remo, sekwa mo sa hàla hɛ, ko a sɛ̀ netyang.43-44E bama mo, Yɛsu a hwo pat bayis e ra yɛ, a yang ɛ, “Wok, hwo ha a mwat hwak pyɛ de ma ga ra a hwo wɛt! Ko nára hwo vɔk na piris, na a bɛrɛng rebek mō. E bama mo, nára nɔrɔ de Mose à kana nɔng nu e ra hɛ, na he dura a kawɛ mwat, hwà ga tɛ̀ tyang.” E yɛnɛ mo, Yɛsu a tɛ̀ ɛ e gwong, a yang ɛ, “Nára hwo.”45Ko mwat o a nára hɛ, a vɛ̌ hwo bere reha mo ding-ding e kahɛ kwɔn. Ko há mo ha tɛ̀ Yɛsu a tɔk yel e repomo rehak gbey wɛt. A wusal e nedem de na sé vit a mwat. Ko bemat ba yís yi e nedem detidetu, ba kyè wɔ̀ sɛsɛm hɛ.© 2009 Nigeria Bible Translation Trust and Wycliffe Bible Translators, Inc. in cooperation with Berom Language and Translation Board, (www.Wycliffe.org)  — Visitwww.ScriptureEarth.orgfor Scripture resources in Berom.\n",
      "YƐGƐT YAT DE\n",
      "MARKUS\n",
      "A JƐK\n",
      "\n",
      "\n",
      "Basâ Yohana wo batisma\n",
      "Basâ Yohana wo batisma\n",
      "(Mat 3:1-12;Luk 3:1-18;Yoh 1:19-28)\n",
      "(Mat 3:1-12;Luk 3:1-18;Yoh 1:19-28)\n",
      "11Mɛsɛ̂ng Yɛgɛt Yât Yɛsu Kristi, Hwey Dagwi, à yemo.2Ya sé sede remo de Yɛshaya, zarap Dagwi, à kana jɛk e bwok-basa mɛ pyɛ de Dagwi à ha wɔgɔ,\n",
      "1\n",
      "“Di, tom hom à womo; ma sé tomo hɛ e nuyel mō,\n",
      "na a yong gwong yaga hwo.”\n",
      "3“Be wok fwɔ̂ mwat hwak gwo mok e hey, gwo tē,\n",
      "‘Yóng in a Darwey gwong;\n",
      "tɛ̀ in gwɛ tas, na a bin kwey ɛ̀!’ ”\n",
      "4Há hemo ha sila jeng de Yohana á sè e hey, ko a tɛ̀sɛ a bemat batisma. A shara a yɛn reha wɔgɔ, “Doyo hin yi e banɛn min, na be tɛ̀ a yin batisma, yaga na Dagwi a hàla a yin banɛn min.”5Bemât mwa yi e sevwêl Yudiya na bemât mwa yi e gbɔng repomô Yɛrusalɛm ba kyese na yɛ. Yɛn a kulsa banɛn mɛn, ko a tɛ̀sɛ a yɛn batisma e ji Rɔt Yɔrdan.\n",
      "6Yohana á tɛ̀sɛ gworugu de bá yong na setôt maryat, á rɔgɔs gyindî rehwo e rawit mɛ, ko a re yɔ́rɔ na shok.7A ha a bemat, a yang ɛn, “Mwat de e kyè vey e bama hom a dal me na reto. Ma ka vey na me ye kwot, na me viri batsɛ̂p bekpatak mɛ wɛt.8Me tɛ̀sɛ a yin batisma na nshi, ko yɛ de e kyè vey a rɔda tɛ̀sɛ a yin batisma na Gabik Jɛrɛ.”\n",
      "Batisma Yɛsu na setɔgɔs mɛ\n",
      "Batisma Yɛsu na setɔgɔs mɛ\n",
      "(Mat 3:13—4:11;Luk 3:21-22;4:1-13)\n",
      "(Mat 3:13—4:11;Luk 3:21-22;4:1-13)\n",
      "9E ji nepɔlɔ nane, Yɛsu a vey yi e Nazarɛt wo Galili, ko Yohana a tɛ̀ a yɛ batisma e ji Rɔt Yɔrdan.10Jeng de Yɛsu a nusu yi e nshi, a di lagwi wa wunta hɛ, ko Gabik Jɛrɛ ha sé gyirik sede gwobɔp, ha hwo e ra yɛ.11Ko fwɔ gwa yi e lagwi, gwa ye, “Hwà sé Hwêy yey hom, yey hom ya pɛngɛ na hwo sizɔng.”\n",
      "12Ko remo-remo, Gabik Jɛrɛ ha gang ɛ vɔk e hey.13A sangal e hwomo nepɔlɔ kuru banaas (40), ko Shetan a tɔgɔs hɛ na a ra banɛn. Ngyāma ya sé e hwomo arɔng, ko betom-lagwi ba nɔng ɛ pyɛ de e simo.\n",
      "Yɛsu a yila bemât vôs betɔk benaas\n",
      "Yɛsu a yila bemât vôs betɔk benaas\n",
      "(Mat 4:12-22;Luk 4:14-15;5:1-11)\n",
      "(Mat 4:12-22;Luk 4:14-15;5:1-11)\n",
      "14Bama de ba ga tɛ̀ Yohana e ngyang, Yɛsu a wɔ́ e sevwêl Galili, a shara a bemat Yɛgɛt Yat yi na Dagwi.15A yang ɛn, “Jeng ya ga vey de Dagwi ê kwɔk jut segwɔm e ra jey. Doyo hin yi e banɛn min, na yin a sey tsak o na Yɛgɛt Yat!”\n",
      "16Jeng de Yɛsu a sé kwey e vwarâ Gworep Galili, a di bemât vôs betɔk beba, yɛ Simɔn na gwa mɛ Andarawus; ba sé vos betɔk e ji gworep na segun.17Yɛsu a yang ɛn, “Raa me hin, ko ma rɔda masa a yin gwong de yin ê vɛ̀sɛ a me na bemat, tyɛng sede yin a sé vos betɔk a remo.”18E ji jeng o, yɛn a pe hàla bagun mɛn, ko ba raa hɛ.\n",
      "19Sede a gwɛ̌ kyè tyɔng vɔk e nuyel, a to di bemat beba, yɛ Yakɔp na gwa mɛ Yohana, nèy Zɛbɛdayus. Yɛn a sé e ji dwa-nshi, ba sé yong bagun mɛn.20Remo-remo, Yɛsu a yishi hɛn; ko yɛn a tik da mɛn Zɛbɛdayus na bemât fwom mɛ e ji dwa-nshi mo, ko yɛn a raa hɛ.\n",
      "Mwat de a vɔk ceng\n",
      "Mwat de a vɔk ceng\n",
      "(Luk 4:31-37)\n",
      "(Luk 4:31-37)\n",
      "21Yɛn a yel e ji repomo de be tâng rɛ, à Kafarnahum. Tuk Shábat, Yɛsu a yel e duk re fongol mɛn, ko a hwo basa a bemat rehâ Dagwi.22Bemat o ba langat hɛn e ra gwong de a basa, yaga gwa sé detu na gwomo de bemât basâ Badu ba ra. Yɛsu a basa a yɛn na reto.\n",
      "23E ji jeng o, mwat hwak de a vɔk ceng a yel e duk re fongol o, ko a hwo gbɔ, a ye,24“À Yɛsu wo Nazarɛt, e sɛ́ de hwó simo hwo ra na wot arɛt? Hwà vey na hwo ba wey na wot a? Ma tɔk yerê mwat de hwà sé: Hwà sé mwât Dagwi de yɛ a tomo hɛ!”\n",
      "25Ko Yɛsu a pat bayis e ra ceng o, a yâng yɛ, “Sǎ yuu! Nusu yi e ji mwat womo!”\n",
      "26Ceng o ya digta mwat o na gap, ya dak sekun, ko ya nusu.27A vɛ̌ yâng bemat o mwa kpɔrɔk, ko ba hwo tâng bemɛn, “Hàa! E sɛ́ a yemo ɛ? E yerê basa mo pas o hak a hemo a? Mwat womo e nɔngɔ̂s cēng nu yi na reto, ko ye wokos hɛ!”\n",
      "28Ko há de ba ha e ra Yɛsu ha shara hɛ ziri e kahɛ kwɔn e ji sevwêl Galili.\n",
      "Yɛsu a tɛ̀ gùna Bitrus na bemat behak tyang\n",
      "Yɛsu a tɛ̀ gùna Bitrus na bemat behak tyang\n",
      "(Mat 8:14-17;Luk 4:38-41)\n",
      "(Mat 8:14-17;Luk 4:38-41)\n",
      "29E bama mo, yɛn a nusu yi e duk re fongol, ko yɛn a bérem vɔk e lɔ Simɔn na Andarawus; Yakɔp na Yohana ba kyè tanga yɛn.30Gùna Simɔn o á sè e dyɛngɛ pep-pep na bêk fes. Ko jeng de Yɛsu a yel e hwomo, bemat ba ha a yɛ, e ro ɛ.31A wɔ́ na yɛ, a kaba vwɔ mɛ, ko a sogo hɛ. Bêk fes ha hàla hɛ, ko a yong a yɛn pyɛ́.\n",
      "32Nawiri jeng de gwi gwa gaba, bemat ba vɛ̀sɛ na mwa bemât serɔ na yɛ tanga vemo de ba vɔk cēng arɔng.33Mwa bemât repomo mo ba tula hɛn e nuyêl lɔ mo.34Ko Yɛsu a tɛ̀sɛ bemât serɔ pyak tyang, vemo de ba vɔk nezap nerɔ detidetu, ko a paa cēng pyak. A tik yɛ̄, na ye ha wɛt, yaga ya tɔk mwat de yɛ a sé.\n",
      "Yɛsu a basa e sevwêl Galili\n",
      "Yɛsu a basa e sevwêl Galili\n",
      "(Luk 4:42-44)\n",
      "(Luk 4:42-44)\n",
      "35E rwa hwol rey, Yɛsu a sogo, ko a tik lɔ mo. A vɔk e dem de vit a mwat, ko e hwomo a ra won.36Ko Simɔn na vemo de ba sé tanga yɛ ba nusu, ba wɔ̀ jāma hɛ.37Jeng de yɛn a sɛ̀ ɛ, yɛn a yang ɛ, “Bemât mwa ba sé jāma hwo!”\n",
      "38Ko Yɛsu a yang ɛn, “Tik na wot a vɔk e bapomo de ba sé bagat e ngamo, na me kyě basa e ji vɛ arɔng, yaga pyɛ ma yane de ya tɛ̀, ma vey.”\n",
      "39A kyě kyè mwa e ji sevwêl Galili, a shara rehâ Dagwi e beduk re fongol, ko a paa cēng arɔng.\n",
      "Yɛsu a tɛ̀ kparong tyang\n",
      "Yɛsu a tɛ̀ kparong tyang\n",
      "(Mat 8:1-4;Luk 5:12-16)\n",
      "(Mat 8:1-4;Luk 5:12-16)\n",
      "40Kparong hwak a vey na Yɛsu, a ye guduruk, ko a ra won na yɛ, a ye, “Ka sede hwà simo, ko hwà vɔk reto na hwo tɛ̀ me tyang.”\n",
      "41Yɛsu a wok nemwishish mɛ, a hanat, a yang ɛ, “Ey, me simo.” A nára vwɔ mɛ, ko a ra mɛ̀ mwat o, a ye, “Tɛ̀ tyang!”42Remo-remo, sekwa mo sa hàla hɛ, ko a sɛ̀ netyang.43-44E bama mo, Yɛsu a hwo pat bayis e ra yɛ, a yang ɛ, “Wok, hwo ha a mwat hwak pyɛ de ma ga ra a hwo wɛt! Ko nára hwo vɔk na piris, na a bɛrɛng rebek mō. E bama mo, nára nɔrɔ de Mose à kana nɔng nu e ra hɛ, na he dura a kawɛ mwat, hwà ga tɛ̀ tyang.” E yɛnɛ mo, Yɛsu a tɛ̀ ɛ e gwong, a yang ɛ, “Nára hwo.”\n",
      "45Ko mwat o a nára hɛ, a vɛ̌ hwo bere reha mo ding-ding e kahɛ kwɔn. Ko há mo ha tɛ̀ Yɛsu a tɔk yel e repomo rehak gbey wɛt. A wusal e nedem de na sé vit a mwat. Ko bemat ba yís yi e nedem detidetu, ba kyè wɔ̀ sɛsɛm hɛ.\n",
      "© 2009 Nigeria Bible Translation Trust and Wycliffe Bible Translators, Inc. in cooperation with Berom Language and Translation Board, (www.Wycliffe.org)  — Visitwww.ScriptureEarth.orgfor Scripture resources in Berom.\n",
      "© 2009 Nigeria Bible Translation Trust and Wycliffe Bible Translators, Inc. in cooperation with Berom Language and Translation Board, (www.Wycliffe.org)  — Visitwww.ScriptureEarth.orgfor Scripture resources in Berom.\n"
     ]
    }
   ],
   "source": [
    "div_tags = soup.select('div')\n",
    "for div in div_tags:\n",
    "    text = div.get_text(strip=True)\n",
    "    print(text)"
   ]
  },
  {
   "cell_type": "code",
   "execution_count": 15,
   "id": "9e60667c-8666-4776-bb59-1b723f5948d1",
   "metadata": {},
   "outputs": [
    {
     "data": {
      "text/plain": [
       "'© 2009 Nigeria Bible Translation Trust and Wycliffe Bible Translators, Inc. in cooperation with Berom Language and Translation Board, (www.Wycliffe.org)  — Visitwww.ScriptureEarth.orgfor Scripture resources in Berom.'"
      ]
     },
     "execution_count": 15,
     "metadata": {},
     "output_type": "execute_result"
    }
   ],
   "source": [
    "text"
   ]
  },
  {
   "cell_type": "code",
   "execution_count": 3,
   "id": "0760fe95-1643-4a20-b67c-45346f8e4444",
   "metadata": {},
   "outputs": [
    {
     "name": "stdout",
     "output_type": "stream",
     "text": [
      "na a yong gwong yaga hwo.”\n"
     ]
    }
   ],
   "source": [
    "body = soup.find('div', class_='q2')\n",
    "print(body.text)"
   ]
  },
  {
   "cell_type": "code",
   "execution_count": 5,
   "id": "56d48aba-62cc-4270-8612-212bfaaf2e88",
   "metadata": {},
   "outputs": [
    {
     "name": "stdout",
     "output_type": "stream",
     "text": [
      "3 “Be wok fwɔ̂ mwat hwak gwo mok e hey, gwo tē,\n"
     ]
    }
   ],
   "source": [
    "body = soup.find('div', class_='q-v')\n",
    "print(body.text)"
   ]
  },
  {
   "cell_type": "code",
   "execution_count": 18,
   "id": "554a08e5-a224-4a39-8560-72c74ade9419",
   "metadata": {},
   "outputs": [
    {
     "name": "stdout",
     "output_type": "stream",
     "text": [
      "6 Yohana á tɛ̀sɛ gworugu de bá yong na setôt maryat, á rɔgɔs gyindî rehwo e rawit mɛ, ko a re yɔ́rɔ na shok. 7 A ha a bemat, a yang ɛn, “Mwat de e kyè vey e bama hom a dal me na reto. Ma ka vey na me ye kwot, na me viri batsɛ̂p bekpatak mɛ wɛt. 8 Me tɛ̀sɛ a yin batisma na nshi, ko yɛ de e kyè vey a rɔda tɛ̀sɛ a yin batisma na Gabik Jɛrɛ.”\n"
     ]
    }
   ],
   "source": [
    "body = soup.find('div', class_='p').extract()\n",
    "print(body.text)"
   ]
  },
  {
   "cell_type": "code",
   "execution_count": null,
   "id": "fc31d19f-5ac7-4447-a7c4-84d93e2f7bef",
   "metadata": {},
   "outputs": [],
   "source": []
  }
 ],
 "metadata": {
  "kernelspec": {
   "display_name": "Python 3 (ipykernel)",
   "language": "python",
   "name": "python3"
  },
  "language_info": {
   "codemirror_mode": {
    "name": "ipython",
    "version": 3
   },
   "file_extension": ".py",
   "mimetype": "text/x-python",
   "name": "python",
   "nbconvert_exporter": "python",
   "pygments_lexer": "ipython3",
   "version": "3.9.15"
  }
 },
 "nbformat": 4,
 "nbformat_minor": 5
}
