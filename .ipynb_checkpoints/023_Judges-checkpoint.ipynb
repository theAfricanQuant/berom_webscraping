{
 "cells": [
  {
   "cell_type": "code",
   "execution_count": 2,
   "id": "449ac864-a915-45e1-b934-03bf632cbbdf",
   "metadata": {},
   "outputs": [
    {
     "name": "stdout",
     "output_type": "stream",
     "text": [
      "JSON data saved to: berom\\Besuga_Israyɛl_1.json\n",
      "JSON data saved to: berom\\Besuga_Israyɛl_2.json\n",
      "JSON data saved to: berom\\Besuga_Israyɛl_3.json\n",
      "JSON data saved to: berom\\Besuga_Israyɛl_4.json\n",
      "JSON data saved to: berom\\Besuga_Israyɛl_5.json\n",
      "JSON data saved to: berom\\Besuga_Israyɛl_6.json\n",
      "JSON data saved to: berom\\Besuga_Israyɛl_7.json\n",
      "JSON data saved to: berom\\Besuga_Israyɛl_8.json\n",
      "JSON data saved to: berom\\Besuga_Israyɛl_9.json\n",
      "JSON data saved to: berom\\Besuga_Israyɛl_10.json\n",
      "JSON data saved to: berom\\Besuga_Israyɛl_11.json\n",
      "JSON data saved to: berom\\Besuga_Israyɛl_12.json\n",
      "JSON data saved to: berom\\Besuga_Israyɛl_13.json\n",
      "JSON data saved to: berom\\Besuga_Israyɛl_14.json\n",
      "JSON data saved to: berom\\Besuga_Israyɛl_15.json\n",
      "JSON data saved to: berom\\Besuga_Israyɛl_16.json\n",
      "JSON data saved to: berom\\Besuga_Israyɛl_17.json\n",
      "JSON data saved to: berom\\Besuga_Israyɛl_18.json\n",
      "JSON data saved to: berom\\Besuga_Israyɛl_19.json\n",
      "JSON data saved to: berom\\Besuga_Israyɛl_20.json\n",
      "JSON data saved to: berom\\Besuga_Israyɛl_21.json\n"
     ]
    }
   ],
   "source": [
    "from berom_scraper import *\n",
    "\n",
    "base_url = \"https://scriptureearth.org/data/bom/sab/bom/bom-07-JDG-{}.html\" \n",
    "\n",
    "for i in range(1, 22):\n",
    "    url = base_url.format(str(i).zfill(3))\n",
    "    \n",
    "    \n",
    "    scraper = WebScraper(url, 'berom')\n",
    "    txt = scraper.soup\n",
    "    chpt_name = scraper.chapter\n",
    "    attribs = ('ms', 'mt', 'sp', 's')\n",
    "    scraper.clean_div(attribs)\n",
    "    scraper.clean_subdiv('div', 'm', 'c-drop')\n",
    "    scraper.clean_text()\n",
    "    scraper.save_json()"
   ]
  },
  {
   "cell_type": "code",
   "execution_count": null,
   "id": "200a5bbd-68c4-4ff9-b77f-eb43e80c4b52",
   "metadata": {},
   "outputs": [],
   "source": []
  }
 ],
 "metadata": {
  "kernelspec": {
   "display_name": "Python 3 (ipykernel)",
   "language": "python",
   "name": "python3"
  },
  "language_info": {
   "codemirror_mode": {
    "name": "ipython",
    "version": 3
   },
   "file_extension": ".py",
   "mimetype": "text/x-python",
   "name": "python",
   "nbconvert_exporter": "python",
   "pygments_lexer": "ipython3",
   "version": "3.10.11"
  }
 },
 "nbformat": 4,
 "nbformat_minor": 5
}
