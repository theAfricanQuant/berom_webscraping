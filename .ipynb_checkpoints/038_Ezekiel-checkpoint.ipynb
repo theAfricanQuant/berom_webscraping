{
 "cells": [
  {
   "cell_type": "code",
   "execution_count": 1,
   "id": "449ac864-a915-45e1-b934-03bf632cbbdf",
   "metadata": {},
   "outputs": [
    {
     "name": "stdout",
     "output_type": "stream",
     "text": [
      "JSON data saved to: berom\\Yɛzɛkyɛl_1.json\n",
      "JSON data saved to: berom\\Yɛzɛkyɛl_2.json\n",
      "JSON data saved to: berom\\Yɛzɛkyɛl_3.json\n",
      "JSON data saved to: berom\\Yɛzɛkyɛl_4.json\n",
      "JSON data saved to: berom\\Yɛzɛkyɛl_5.json\n",
      "JSON data saved to: berom\\Yɛzɛkyɛl_6.json\n",
      "JSON data saved to: berom\\Yɛzɛkyɛl_7.json\n",
      "JSON data saved to: berom\\Yɛzɛkyɛl_8.json\n",
      "JSON data saved to: berom\\Yɛzɛkyɛl_9.json\n",
      "JSON data saved to: berom\\Yɛzɛkyɛl_10.json\n",
      "JSON data saved to: berom\\Yɛzɛkyɛl_11.json\n",
      "JSON data saved to: berom\\Yɛzɛkyɛl_12.json\n",
      "JSON data saved to: berom\\Yɛzɛkyɛl_13.json\n",
      "JSON data saved to: berom\\Yɛzɛkyɛl_14.json\n",
      "JSON data saved to: berom\\Yɛzɛkyɛl_15.json\n",
      "JSON data saved to: berom\\Yɛzɛkyɛl_16.json\n",
      "JSON data saved to: berom\\Yɛzɛkyɛl_17.json\n",
      "JSON data saved to: berom\\Yɛzɛkyɛl_18.json\n",
      "JSON data saved to: berom\\Yɛzɛkyɛl_19.json\n",
      "JSON data saved to: berom\\Yɛzɛkyɛl_20.json\n",
      "JSON data saved to: berom\\Yɛzɛkyɛl_21.json\n",
      "JSON data saved to: berom\\Yɛzɛkyɛl_22.json\n",
      "JSON data saved to: berom\\Yɛzɛkyɛl_23.json\n",
      "JSON data saved to: berom\\Yɛzɛkyɛl_24.json\n",
      "JSON data saved to: berom\\Yɛzɛkyɛl_25.json\n",
      "JSON data saved to: berom\\Yɛzɛkyɛl_26.json\n",
      "JSON data saved to: berom\\Yɛzɛkyɛl_27.json\n",
      "JSON data saved to: berom\\Yɛzɛkyɛl_28.json\n",
      "JSON data saved to: berom\\Yɛzɛkyɛl_29.json\n",
      "JSON data saved to: berom\\Yɛzɛkyɛl_30.json\n",
      "JSON data saved to: berom\\Yɛzɛkyɛl_31.json\n",
      "JSON data saved to: berom\\Yɛzɛkyɛl_32.json\n",
      "JSON data saved to: berom\\Yɛzɛkyɛl_33.json\n",
      "JSON data saved to: berom\\Yɛzɛkyɛl_34.json\n",
      "JSON data saved to: berom\\Yɛzɛkyɛl_35.json\n",
      "JSON data saved to: berom\\Yɛzɛkyɛl_36.json\n",
      "JSON data saved to: berom\\Yɛzɛkyɛl_37.json\n",
      "JSON data saved to: berom\\Yɛzɛkyɛl_38.json\n",
      "JSON data saved to: berom\\Yɛzɛkyɛl_39.json\n",
      "JSON data saved to: berom\\Yɛzɛkyɛl_40.json\n",
      "JSON data saved to: berom\\Yɛzɛkyɛl_41.json\n",
      "JSON data saved to: berom\\Yɛzɛkyɛl_42.json\n",
      "JSON data saved to: berom\\Yɛzɛkyɛl_43.json\n",
      "JSON data saved to: berom\\Yɛzɛkyɛl_44.json\n",
      "JSON data saved to: berom\\Yɛzɛkyɛl_45.json\n",
      "JSON data saved to: berom\\Yɛzɛkyɛl_46.json\n",
      "JSON data saved to: berom\\Yɛzɛkyɛl_47.json\n",
      "JSON data saved to: berom\\Yɛzɛkyɛl_48.json\n"
     ]
    }
   ],
   "source": [
    "from berom_scraper import *\n",
    "\n",
    "base_url = \"https://scriptureearth.org/data/bom/sab/bom/bom-26-EZK-{}.html\" \n",
    "\n",
    "for i in range(1, 49):\n",
    "    url = base_url.format(str(i).zfill(3))\n",
    "    \n",
    "    \n",
    "    scraper = WebScraper(url, 'berom')\n",
    "    txt = scraper.soup\n",
    "    chpt_name = scraper.chapter\n",
    "    attribs = ('ms', 'mt', 'sp', 's')\n",
    "    scraper.clean_div(attribs)\n",
    "    scraper.clean_subdiv('div', 'm', 'c-drop')\n",
    "    scraper.clean_text()\n",
    "    scraper.save_json()"
   ]
  },
  {
   "cell_type": "code",
   "execution_count": null,
   "id": "200a5bbd-68c4-4ff9-b77f-eb43e80c4b52",
   "metadata": {},
   "outputs": [],
   "source": []
  }
 ],
 "metadata": {
  "kernelspec": {
   "display_name": "Python 3 (ipykernel)",
   "language": "python",
   "name": "python3"
  },
  "language_info": {
   "codemirror_mode": {
    "name": "ipython",
    "version": 3
   },
   "file_extension": ".py",
   "mimetype": "text/x-python",
   "name": "python",
   "nbconvert_exporter": "python",
   "pygments_lexer": "ipython3",
   "version": "3.10.11"
  }
 },
 "nbformat": 4,
 "nbformat_minor": 5
}
