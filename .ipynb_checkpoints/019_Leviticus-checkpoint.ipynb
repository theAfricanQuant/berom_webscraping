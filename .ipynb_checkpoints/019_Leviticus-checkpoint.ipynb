{
 "cells": [
  {
   "cell_type": "code",
   "execution_count": 1,
   "id": "449ac864-a915-45e1-b934-03bf632cbbdf",
   "metadata": {},
   "outputs": [
    {
     "name": "stdout",
     "output_type": "stream",
     "text": [
      "JSON data saved to: berom\\Bepiris_1.json\n",
      "JSON data saved to: berom\\Bepiris_2.json\n",
      "JSON data saved to: berom\\Bepiris_3.json\n",
      "JSON data saved to: berom\\Bepiris_4.json\n",
      "JSON data saved to: berom\\Bepiris_5.json\n",
      "JSON data saved to: berom\\Bepiris_6.json\n",
      "JSON data saved to: berom\\Bepiris_7.json\n",
      "JSON data saved to: berom\\Bepiris_8.json\n",
      "JSON data saved to: berom\\Bepiris_9.json\n",
      "JSON data saved to: berom\\Bepiris_10.json\n",
      "JSON data saved to: berom\\Bepiris_11.json\n",
      "JSON data saved to: berom\\Bepiris_12.json\n",
      "JSON data saved to: berom\\Bepiris_13.json\n",
      "JSON data saved to: berom\\Bepiris_14.json\n",
      "JSON data saved to: berom\\Bepiris_15.json\n",
      "JSON data saved to: berom\\Bepiris_16.json\n",
      "JSON data saved to: berom\\Bepiris_17.json\n",
      "JSON data saved to: berom\\Bepiris_18.json\n",
      "JSON data saved to: berom\\Bepiris_19.json\n",
      "JSON data saved to: berom\\Bepiris_20.json\n",
      "JSON data saved to: berom\\Bepiris_21.json\n",
      "JSON data saved to: berom\\Bepiris_22.json\n",
      "JSON data saved to: berom\\Bepiris_23.json\n",
      "JSON data saved to: berom\\Bepiris_24.json\n",
      "JSON data saved to: berom\\Bepiris_25.json\n",
      "JSON data saved to: berom\\Bepiris_26.json\n",
      "JSON data saved to: berom\\Bepiris_27.json\n"
     ]
    }
   ],
   "source": [
    "from berom_scraper import *\n",
    "\n",
    "base_url = \"https://scriptureearth.org/data/bom/sab/bom/bom-03-LEV-{}.html\" \n",
    "\n",
    "for i in range(1, 28):\n",
    "    url = base_url.format(str(i).zfill(3))\n",
    "    \n",
    "    \n",
    "    scraper = WebScraper(url, 'berom')\n",
    "    txt = scraper.soup\n",
    "    chpt_name = scraper.chapter\n",
    "    attribs = ('ms', 'mt', 'sp', 's')\n",
    "    scraper.clean_div(attribs)\n",
    "    scraper.clean_subdiv('div', 'm', 'c-drop')\n",
    "    scraper.clean_text()\n",
    "    scraper.save_json()"
   ]
  },
  {
   "cell_type": "code",
   "execution_count": null,
   "id": "200a5bbd-68c4-4ff9-b77f-eb43e80c4b52",
   "metadata": {},
   "outputs": [],
   "source": []
  }
 ],
 "metadata": {
  "kernelspec": {
   "display_name": "Python 3 (ipykernel)",
   "language": "python",
   "name": "python3"
  },
  "language_info": {
   "codemirror_mode": {
    "name": "ipython",
    "version": 3
   },
   "file_extension": ".py",
   "mimetype": "text/x-python",
   "name": "python",
   "nbconvert_exporter": "python",
   "pygments_lexer": "ipython3",
   "version": "3.10.11"
  }
 },
 "nbformat": 4,
 "nbformat_minor": 5
}
