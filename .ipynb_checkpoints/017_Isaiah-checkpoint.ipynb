{
 "cells": [
  {
   "cell_type": "code",
   "execution_count": 6,
   "id": "449ac864-a915-45e1-b934-03bf632cbbdf",
   "metadata": {},
   "outputs": [
    {
     "name": "stdout",
     "output_type": "stream",
     "text": [
      "JSON data saved to: berom/Yirmiya_1.json\n",
      "JSON data saved to: berom/Yirmiya_2.json\n",
      "JSON data saved to: berom/Yirmiya_3.json\n",
      "JSON data saved to: berom/Yirmiya_4.json\n",
      "JSON data saved to: berom/Yirmiya_5.json\n",
      "JSON data saved to: berom/Yirmiya_6.json\n",
      "JSON data saved to: berom/Yirmiya_7.json\n",
      "JSON data saved to: berom/Yirmiya_8.json\n",
      "JSON data saved to: berom/Yirmiya_9.json\n",
      "JSON data saved to: berom/Yirmiya_10.json\n",
      "JSON data saved to: berom/Yirmiya_11.json\n",
      "JSON data saved to: berom/Yirmiya_12.json\n",
      "JSON data saved to: berom/Yirmiya_13.json\n",
      "JSON data saved to: berom/Yirmiya_14.json\n",
      "JSON data saved to: berom/Yirmiya_15.json\n",
      "JSON data saved to: berom/Yirmiya_16.json\n",
      "JSON data saved to: berom/Yirmiya_17.json\n",
      "JSON data saved to: berom/Yirmiya_18.json\n",
      "JSON data saved to: berom/Yirmiya_19.json\n",
      "JSON data saved to: berom/Yirmiya_20.json\n",
      "JSON data saved to: berom/Yirmiya_21.json\n",
      "JSON data saved to: berom/Yirmiya_22.json\n",
      "JSON data saved to: berom/Yirmiya_23.json\n",
      "JSON data saved to: berom/Yirmiya_24.json\n",
      "JSON data saved to: berom/Yirmiya_25.json\n",
      "JSON data saved to: berom/Yirmiya_26.json\n",
      "JSON data saved to: berom/Yirmiya_27.json\n",
      "JSON data saved to: berom/Yirmiya_28.json\n",
      "JSON data saved to: berom/Yirmiya_29.json\n",
      "JSON data saved to: berom/Yirmiya_30.json\n",
      "JSON data saved to: berom/Yirmiya_31.json\n",
      "JSON data saved to: berom/Yirmiya_32.json\n",
      "JSON data saved to: berom/Yirmiya_33.json\n",
      "JSON data saved to: berom/Yirmiya_34.json\n",
      "JSON data saved to: berom/Yirmiya_35.json\n",
      "JSON data saved to: berom/Yirmiya_36.json\n",
      "JSON data saved to: berom/Yirmiya_37.json\n",
      "JSON data saved to: berom/Yirmiya_38.json\n",
      "JSON data saved to: berom/Yirmiya_39.json\n",
      "JSON data saved to: berom/Yirmiya_40.json\n",
      "JSON data saved to: berom/Yirmiya_41.json\n",
      "JSON data saved to: berom/Yirmiya_42.json\n",
      "JSON data saved to: berom/Yirmiya_43.json\n",
      "JSON data saved to: berom/Yirmiya_44.json\n",
      "JSON data saved to: berom/Yirmiya_45.json\n",
      "JSON data saved to: berom/Yirmiya_46.json\n",
      "JSON data saved to: berom/Yirmiya_47.json\n",
      "JSON data saved to: berom/Yirmiya_48.json\n",
      "JSON data saved to: berom/Yirmiya_49.json\n",
      "JSON data saved to: berom/Yirmiya_50.json\n",
      "JSON data saved to: berom/Yirmiya_51.json\n",
      "JSON data saved to: berom/Yirmiya_52.json\n"
     ]
    }
   ],
   "source": [
    "from berom_scraper import *\n",
    "\n",
    "base_url = \"https://scriptureearth.org/data/bom/sab/bom/bom-24-JER-{}.html\"\n",
    "\n",
    "for i in range(1, 53):\n",
    "    url = base_url.format(str(i).zfill(3))\n",
    "    \n",
    "    \n",
    "    scraper = WebScraper(url, 'berom')\n",
    "    txt = scraper.soup\n",
    "    chpt_name = scraper.chapter\n",
    "    attribs = ('ms', 'mt', 'sp', 's')\n",
    "    scraper.clean_div(attribs)\n",
    "    scraper.clean_subdiv('div', 'm', 'c-drop')\n",
    "    scraper.clean_text()\n",
    "    scraper.save_json()"
   ]
  },
  {
   "cell_type": "code",
   "execution_count": null,
   "id": "200a5bbd-68c4-4ff9-b77f-eb43e80c4b52",
   "metadata": {},
   "outputs": [],
   "source": []
  }
 ],
 "metadata": {
  "kernelspec": {
   "display_name": "Python 3 (ipykernel)",
   "language": "python",
   "name": "python3"
  },
  "language_info": {
   "codemirror_mode": {
    "name": "ipython",
    "version": 3
   },
   "file_extension": ".py",
   "mimetype": "text/x-python",
   "name": "python",
   "nbconvert_exporter": "python",
   "pygments_lexer": "ipython3",
   "version": "3.9.15"
  }
 },
 "nbformat": 4,
 "nbformat_minor": 5
}
