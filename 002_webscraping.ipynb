{
 "cells": [
  {
   "cell_type": "code",
   "execution_count": 1,
   "id": "ad631462-cc98-42c6-9e21-3cbe19e191ee",
   "metadata": {},
   "outputs": [],
   "source": [
    "from bs4 import BeautifulSoup\n",
    "import requests"
   ]
  },
  {
   "cell_type": "code",
   "execution_count": 27,
   "id": "f5c8c247-0a95-413d-b81a-80abe485874b",
   "metadata": {},
   "outputs": [],
   "source": [
    "url = \"https://scriptureearth.org/data/bom/sab/bom/bom-01-GEN-001.html\"\n",
    "response = requests.get(url)#.text\n",
    "response.encoding = 'utf-8'\n",
    "html_text = response.text\n",
    "# print(html_text)"
   ]
  },
  {
   "cell_type": "code",
   "execution_count": 39,
   "id": "66b45123-bed9-4d9d-a1d1-a73f3ed20797",
   "metadata": {},
   "outputs": [],
   "source": [
    "soup = BeautifulSoup(html_text, 'lxml')"
   ]
  },
  {
   "cell_type": "code",
   "execution_count": 44,
   "id": "e00e7334-f84f-4d98-bfcb-5e13fb4ce8a9",
   "metadata": {},
   "outputs": [
    {
     "data": {
      "text/plain": [
       "'Susumo 1'"
      ]
     },
     "execution_count": 44,
     "metadata": {},
     "output_type": "execute_result"
    }
   ],
   "source": [
    "b_chpt = soup.find('title').text\n",
    "b_chpt"
   ]
  },
  {
   "cell_type": "code",
   "execution_count": 41,
   "id": "01e4f783-b090-4337-816b-ec6e3ff47070",
   "metadata": {},
   "outputs": [
    {
     "data": {
      "text/plain": [
       "'1'"
      ]
     },
     "execution_count": 41,
     "metadata": {},
     "output_type": "execute_result"
    }
   ],
   "source": [
    "vs_num = soup.find('span', class_='v').text\n",
    "vs_num "
   ]
  },
  {
   "cell_type": "code",
   "execution_count": 42,
   "id": "4660b16f-845a-4ba5-a994-9231e47b8c86",
   "metadata": {},
   "outputs": [
    {
     "data": {
      "text/plain": [
       "'\\xa0'"
      ]
     },
     "execution_count": 42,
     "metadata": {},
     "output_type": "execute_result"
    }
   ],
   "source": [
    "vs_txt = soup.find('span', class_='txs').text\n",
    "vs_txt "
   ]
  },
  {
   "cell_type": "code",
   "execution_count": 43,
   "id": "35bed338-de02-4302-93a8-6d2ee20cd6e3",
   "metadata": {},
   "outputs": [
    {
     "data": {
      "text/plain": [
       "'\\n1 1\\xa0Jeng de Dagwi à kana susu yông jey na lagwi,a 2\\xa0jey\\xa0o yà sè wiin zɔng, vit a pyɛ e\\xa0ji yɛ. Lwīl gwà kyiri gwogbɔng gworep gwociwil, ko gabik Dagwi ha rini e\\xa0ra nshi.'"
      ]
     },
     "execution_count": 43,
     "metadata": {},
     "output_type": "execute_result"
    }
   ],
   "source": [
    "soup.find('div', class_='m').text"
   ]
  },
  {
   "cell_type": "code",
   "execution_count": null,
   "id": "739d95fb-12d6-43e1-8d48-cd5200d66a30",
   "metadata": {},
   "outputs": [],
   "source": []
  }
 ],
 "metadata": {
  "kernelspec": {
   "display_name": "Python 3 (ipykernel)",
   "language": "python",
   "name": "python3"
  },
  "language_info": {
   "codemirror_mode": {
    "name": "ipython",
    "version": 3
   },
   "file_extension": ".py",
   "mimetype": "text/x-python",
   "name": "python",
   "nbconvert_exporter": "python",
   "pygments_lexer": "ipython3",
   "version": "3.9.15"
  }
 },
 "nbformat": 4,
 "nbformat_minor": 5
}
