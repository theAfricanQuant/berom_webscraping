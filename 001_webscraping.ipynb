{
 "cells": [
  {
   "cell_type": "code",
   "execution_count": 7,
   "id": "25dd7433-94db-4317-a9c6-a17a87a66690",
   "metadata": {},
   "outputs": [],
   "source": [
    "from bs4 import BeautifulSoup\n",
    "import requests"
   ]
  },
  {
   "cell_type": "code",
   "execution_count": 4,
   "id": "9bb75b52-e475-4cb8-8e5b-7c4467f49501",
   "metadata": {},
   "outputs": [],
   "source": [
    "url = \"https://realpython.github.io/fake-jobs/\""
   ]
  },
  {
   "cell_type": "code",
   "execution_count": 10,
   "id": "58ae3558-f3e1-4f1d-9789-a7a3e80119bd",
   "metadata": {},
   "outputs": [],
   "source": [
    "html_text = requests.get(url).text\n",
    "# print(html_text)"
   ]
  },
  {
   "cell_type": "code",
   "execution_count": 11,
   "id": "641ddcf4-9145-46f4-ac4e-e54bb3491a6e",
   "metadata": {},
   "outputs": [],
   "source": [
    "soup = BeautifulSoup(html_text, 'lxml')"
   ]
  },
  {
   "cell_type": "code",
   "execution_count": 23,
   "id": "04aaf3b2-5093-4109-8c27-979c4ade43e0",
   "metadata": {},
   "outputs": [
    {
     "name": "stdout",
     "output_type": "stream",
     "text": [
      "Senior Python Developer\n",
      "Payne, Roberts and Davis\n"
     ]
    }
   ],
   "source": [
    "job = soup.find('h2').text\n",
    "coy_name = soup.find('h3').text\n",
    "print(job)\n",
    "print(coy_name)"
   ]
  }
 ],
 "metadata": {
  "kernelspec": {
   "display_name": "Python 3 (ipykernel)",
   "language": "python",
   "name": "python3"
  },
  "language_info": {
   "codemirror_mode": {
    "name": "ipython",
    "version": 3
   },
   "file_extension": ".py",
   "mimetype": "text/x-python",
   "name": "python",
   "nbconvert_exporter": "python",
   "pygments_lexer": "ipython3",
   "version": "3.9.15"
  }
 },
 "nbformat": 4,
 "nbformat_minor": 5
}
