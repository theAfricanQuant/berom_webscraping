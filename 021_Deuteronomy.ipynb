{
 "cells": [
  {
   "cell_type": "code",
   "execution_count": 1,
   "id": "449ac864-a915-45e1-b934-03bf632cbbdf",
   "metadata": {},
   "outputs": [
    {
     "name": "stdout",
     "output_type": "stream",
     "text": [
      "JSON data saved to: berom\\Bare_Badu_1.json\n",
      "JSON data saved to: berom\\Bare_Badu_2.json\n",
      "JSON data saved to: berom\\Bare_Badu_3.json\n",
      "JSON data saved to: berom\\Bare_Badu_4.json\n",
      "JSON data saved to: berom\\Bare_Badu_5.json\n",
      "JSON data saved to: berom\\Bare_Badu_6.json\n",
      "JSON data saved to: berom\\Bare_Badu_7.json\n",
      "JSON data saved to: berom\\Bare_Badu_8.json\n",
      "JSON data saved to: berom\\Bare_Badu_9.json\n",
      "JSON data saved to: berom\\Bare_Badu_10.json\n",
      "JSON data saved to: berom\\Bare_Badu_11.json\n",
      "JSON data saved to: berom\\Bare_Badu_12.json\n",
      "JSON data saved to: berom\\Bare_Badu_13.json\n",
      "JSON data saved to: berom\\Bare_Badu_14.json\n",
      "JSON data saved to: berom\\Bare_Badu_15.json\n",
      "JSON data saved to: berom\\Bare_Badu_16.json\n",
      "JSON data saved to: berom\\Bare_Badu_17.json\n",
      "JSON data saved to: berom\\Bare_Badu_18.json\n",
      "JSON data saved to: berom\\Bare_Badu_19.json\n",
      "JSON data saved to: berom\\Bare_Badu_20.json\n",
      "JSON data saved to: berom\\Bare_Badu_21.json\n",
      "JSON data saved to: berom\\Bare_Badu_22.json\n",
      "JSON data saved to: berom\\Bare_Badu_23.json\n",
      "JSON data saved to: berom\\Bare_Badu_24.json\n",
      "JSON data saved to: berom\\Bare_Badu_25.json\n",
      "JSON data saved to: berom\\Bare_Badu_26.json\n",
      "JSON data saved to: berom\\Bare_Badu_27.json\n",
      "JSON data saved to: berom\\Bare_Badu_28.json\n",
      "JSON data saved to: berom\\Bare_Badu_29.json\n",
      "JSON data saved to: berom\\Bare_Badu_30.json\n",
      "JSON data saved to: berom\\Bare_Badu_31.json\n",
      "JSON data saved to: berom\\Bare_Badu_32.json\n",
      "JSON data saved to: berom\\Bare_Badu_33.json\n",
      "JSON data saved to: berom\\Bare_Badu_34.json\n"
     ]
    }
   ],
   "source": [
    "from berom_scraper import *\n",
    "\n",
    "base_url = \"https://scriptureearth.org/data/bom/sab/bom/bom-05-DEU-{}.html\" \n",
    "\n",
    "for i in range(1, 35):\n",
    "    url = base_url.format(str(i).zfill(3))\n",
    "    \n",
    "    \n",
    "    scraper = WebScraper(url, 'berom')\n",
    "    txt = scraper.soup\n",
    "    chpt_name = scraper.chapter\n",
    "    attribs = ('ms', 'mt', 'sp', 's')\n",
    "    scraper.clean_div(attribs)\n",
    "    scraper.clean_subdiv('div', 'm', 'c-drop')\n",
    "    scraper.clean_text()\n",
    "    scraper.save_json()"
   ]
  },
  {
   "cell_type": "code",
   "execution_count": null,
   "id": "200a5bbd-68c4-4ff9-b77f-eb43e80c4b52",
   "metadata": {},
   "outputs": [],
   "source": []
  }
 ],
 "metadata": {
  "kernelspec": {
   "display_name": "Python 3 (ipykernel)",
   "language": "python",
   "name": "python3"
  },
  "language_info": {
   "codemirror_mode": {
    "name": "ipython",
    "version": 3
   },
   "file_extension": ".py",
   "mimetype": "text/x-python",
   "name": "python",
   "nbconvert_exporter": "python",
   "pygments_lexer": "ipython3",
   "version": "3.10.11"
  }
 },
 "nbformat": 4,
 "nbformat_minor": 5
}
