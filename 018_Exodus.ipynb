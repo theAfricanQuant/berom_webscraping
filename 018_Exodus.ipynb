{
 "cells": [
  {
   "cell_type": "code",
   "execution_count": 2,
   "id": "449ac864-a915-45e1-b934-03bf632cbbdf",
   "metadata": {},
   "outputs": [
    {
     "name": "stdout",
     "output_type": "stream",
     "text": [
      "JSON data saved to: berom\\Nusu_1.json\n",
      "JSON data saved to: berom\\Nusu_2.json\n",
      "JSON data saved to: berom\\Nusu_3.json\n",
      "JSON data saved to: berom\\Nusu_4.json\n",
      "JSON data saved to: berom\\Nusu_5.json\n",
      "JSON data saved to: berom\\Nusu_6.json\n",
      "JSON data saved to: berom\\Nusu_7.json\n",
      "JSON data saved to: berom\\Nusu_8.json\n",
      "JSON data saved to: berom\\Nusu_9.json\n",
      "JSON data saved to: berom\\Nusu_10.json\n",
      "JSON data saved to: berom\\Nusu_11.json\n",
      "JSON data saved to: berom\\Nusu_12.json\n",
      "JSON data saved to: berom\\Nusu_13.json\n",
      "JSON data saved to: berom\\Nusu_14.json\n",
      "JSON data saved to: berom\\Nusu_15.json\n",
      "JSON data saved to: berom\\Nusu_16.json\n",
      "JSON data saved to: berom\\Nusu_17.json\n",
      "JSON data saved to: berom\\Nusu_18.json\n",
      "JSON data saved to: berom\\Nusu_19.json\n",
      "JSON data saved to: berom\\Nusu_20.json\n",
      "JSON data saved to: berom\\Nusu_21.json\n",
      "JSON data saved to: berom\\Nusu_22.json\n",
      "JSON data saved to: berom\\Nusu_23.json\n",
      "JSON data saved to: berom\\Nusu_24.json\n",
      "JSON data saved to: berom\\Nusu_25.json\n",
      "JSON data saved to: berom\\Nusu_26.json\n",
      "JSON data saved to: berom\\Nusu_27.json\n",
      "JSON data saved to: berom\\Nusu_28.json\n",
      "JSON data saved to: berom\\Nusu_29.json\n",
      "JSON data saved to: berom\\Nusu_30.json\n",
      "JSON data saved to: berom\\Nusu_31.json\n",
      "JSON data saved to: berom\\Nusu_32.json\n",
      "JSON data saved to: berom\\Nusu_33.json\n",
      "JSON data saved to: berom\\Nusu_34.json\n",
      "JSON data saved to: berom\\Nusu_35.json\n",
      "JSON data saved to: berom\\Nusu_36.json\n",
      "JSON data saved to: berom\\Nusu_37.json\n",
      "JSON data saved to: berom\\Nusu_38.json\n",
      "JSON data saved to: berom\\Nusu_39.json\n",
      "JSON data saved to: berom\\Nusu_40.json\n"
     ]
    }
   ],
   "source": [
    "from berom_scraper import *\n",
    "\n",
    "base_url = \"https://scriptureearth.org/data/bom/sab/bom/bom-02-EXO-{}.html\" \n",
    "\n",
    "for i in range(1, 41):\n",
    "    url = base_url.format(str(i).zfill(3))\n",
    "    \n",
    "    \n",
    "    scraper = WebScraper(url, 'berom')\n",
    "    txt = scraper.soup\n",
    "    chpt_name = scraper.chapter\n",
    "    attribs = ('ms', 'mt', 'sp', 's')\n",
    "    scraper.clean_div(attribs)\n",
    "    scraper.clean_subdiv('div', 'm', 'c-drop')\n",
    "    scraper.clean_text()\n",
    "    scraper.save_json()"
   ]
  },
  {
   "cell_type": "code",
   "execution_count": null,
   "id": "200a5bbd-68c4-4ff9-b77f-eb43e80c4b52",
   "metadata": {},
   "outputs": [],
   "source": []
  }
 ],
 "metadata": {
  "kernelspec": {
   "display_name": "Python 3 (ipykernel)",
   "language": "python",
   "name": "python3"
  },
  "language_info": {
   "codemirror_mode": {
    "name": "ipython",
    "version": 3
   },
   "file_extension": ".py",
   "mimetype": "text/x-python",
   "name": "python",
   "nbconvert_exporter": "python",
   "pygments_lexer": "ipython3",
   "version": "3.10.11"
  }
 },
 "nbformat": 4,
 "nbformat_minor": 5
}
